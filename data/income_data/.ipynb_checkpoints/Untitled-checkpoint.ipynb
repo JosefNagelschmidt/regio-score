{
 "cells": [
  {
   "cell_type": "code",
   "execution_count": 34,
   "metadata": {},
   "outputs": [],
   "source": [
    "import numpy as np\n",
    "import pandas as pd \n",
    "\n",
    "av_income_raw = pd.read_csv(\"/Users/light/Documents/Code/Git/regio-score/data/income_data/mean_primary_inc_priv_hh_EURO.csv\")\n",
    "av_avail_income_raw = pd.read_csv(\"/Users/light/Documents/Code/Git/regio-score/data/income_data/mean_available_inc_priv_hh_EURO.csv\")\n",
    "population = pd.read_csv(\"/Users/light/Documents/Code/Git/regio-score/data/income_data/pop_in_1000.csv\")\n",
    "\n",
    "#labor = pd.read_excel(\"/Users/light/Documents/Code/Git/regio-score/data/labor_market/test.xlsx\")"
   ]
  },
  {
   "cell_type": "code",
   "execution_count": 116,
   "metadata": {},
   "outputs": [],
   "source": [
    "table_2_4 = pd.read_excel(io = '/Users/light/Documents/Code/Git/regio-score/data/labor_market/test.xlsx', \n",
    "                   header = None,\n",
    "                   sheet_name = 'Tabelle 2.4', \n",
    "                   usecols = [0,1,2,3,4,5,6,7,8,9,10],\n",
    "                   nrows = 63,\n",
    "                   skiprows=[0,1,2,3,4,5,6,7,8,9,10,11,12,13,14,15,16],\n",
    "                   engine=\"openpyxl\")"
   ]
  },
  {
   "cell_type": "code",
   "execution_count": 111,
   "metadata": {},
   "outputs": [],
   "source": [
    "table_2_3 = pd.read_excel(io = '/Users/light/Documents/Code/Git/regio-score/data/labor_market/test.xlsx', \n",
    "                   header = None,\n",
    "                   sheet_name = 'Tabelle 2.3', \n",
    "                   usecols = [0,1,2,3,4,5,6,7,8,9],\n",
    "                   nrows = 20,\n",
    "                   skiprows=[0,1,2,3,4,5,6,7,8,9,10],\n",
    "                   engine=\"openpyxl\")"
   ]
  },
  {
   "cell_type": "code",
   "execution_count": 122,
   "metadata": {},
   "outputs": [
    {
     "data": {
      "text/plain": [
       "(63, 11)"
      ]
     },
     "execution_count": 122,
     "metadata": {},
     "output_type": "execute_result"
    }
   ],
   "source": [
    "table_2_4.shape"
   ]
  },
  {
   "cell_type": "code",
   "execution_count": 123,
   "metadata": {},
   "outputs": [
    {
     "data": {
      "text/plain": [
       "(445, 32)"
      ]
     },
     "execution_count": 123,
     "metadata": {},
     "output_type": "execute_result"
    }
   ],
   "source": [
    "av_income_raw.shape"
   ]
  },
  {
   "cell_type": "code",
   "execution_count": 29,
   "metadata": {},
   "outputs": [
    {
     "data": {
      "text/html": [
       "<div>\n",
       "<style scoped>\n",
       "    .dataframe tbody tr th:only-of-type {\n",
       "        vertical-align: middle;\n",
       "    }\n",
       "\n",
       "    .dataframe tbody tr th {\n",
       "        vertical-align: top;\n",
       "    }\n",
       "\n",
       "    .dataframe thead th {\n",
       "        text-align: right;\n",
       "    }\n",
       "</style>\n",
       "<table border=\"1\" class=\"dataframe\">\n",
       "  <thead>\n",
       "    <tr style=\"text-align: right;\">\n",
       "      <th></th>\n",
       "      <th>Lfd. Nr.</th>\n",
       "      <th>EU-Code</th>\n",
       "      <th>Regional-schlüssel</th>\n",
       "      <th>Land</th>\n",
       "      <th>NUTS 1</th>\n",
       "      <th>NUTS 2</th>\n",
       "      <th>NUTS 3</th>\n",
       "      <th>Gebietseinheit</th>\n",
       "      <th>1995</th>\n",
       "      <th>1996</th>\n",
       "      <th>...</th>\n",
       "      <th>2009</th>\n",
       "      <th>2010</th>\n",
       "      <th>2011</th>\n",
       "      <th>2012</th>\n",
       "      <th>2013</th>\n",
       "      <th>2014</th>\n",
       "      <th>2015</th>\n",
       "      <th>2016</th>\n",
       "      <th>2017</th>\n",
       "      <th>2018</th>\n",
       "    </tr>\n",
       "  </thead>\n",
       "  <tbody>\n",
       "    <tr>\n",
       "      <th>0</th>\n",
       "      <td>1</td>\n",
       "      <td>DE1</td>\n",
       "      <td>8</td>\n",
       "      <td>BW</td>\n",
       "      <td>1.0</td>\n",
       "      <td>NaN</td>\n",
       "      <td>NaN</td>\n",
       "      <td>Baden-Württemberg</td>\n",
       "      <td>15 431</td>\n",
       "      <td>15 738</td>\n",
       "      <td>...</td>\n",
       "      <td>20 128</td>\n",
       "      <td>20 769</td>\n",
       "      <td>21 609</td>\n",
       "      <td>22 128</td>\n",
       "      <td>22 366</td>\n",
       "      <td>22 921</td>\n",
       "      <td>23 188</td>\n",
       "      <td>23 709</td>\n",
       "      <td>24 202</td>\n",
       "      <td>24 892</td>\n",
       "    </tr>\n",
       "    <tr>\n",
       "      <th>1</th>\n",
       "      <td>2</td>\n",
       "      <td>DE11</td>\n",
       "      <td>81</td>\n",
       "      <td>BW</td>\n",
       "      <td>NaN</td>\n",
       "      <td>2.0</td>\n",
       "      <td>NaN</td>\n",
       "      <td>Stuttgart, Regierungsbezirk</td>\n",
       "      <td>16 063</td>\n",
       "      <td>16 372</td>\n",
       "      <td>...</td>\n",
       "      <td>20 910</td>\n",
       "      <td>21 563</td>\n",
       "      <td>22 394</td>\n",
       "      <td>22 905</td>\n",
       "      <td>23 117</td>\n",
       "      <td>23 621</td>\n",
       "      <td>23 812</td>\n",
       "      <td>24 392</td>\n",
       "      <td>24 853</td>\n",
       "      <td>25 569</td>\n",
       "    </tr>\n",
       "    <tr>\n",
       "      <th>2</th>\n",
       "      <td>3</td>\n",
       "      <td>DE111</td>\n",
       "      <td>8111</td>\n",
       "      <td>BW</td>\n",
       "      <td>NaN</td>\n",
       "      <td>NaN</td>\n",
       "      <td>3.0</td>\n",
       "      <td>Stuttgart, Landeshauptstadt, Stadtkreis</td>\n",
       "      <td>17 885</td>\n",
       "      <td>18 212</td>\n",
       "      <td>...</td>\n",
       "      <td>22 137</td>\n",
       "      <td>22 413</td>\n",
       "      <td>23 121</td>\n",
       "      <td>23 488</td>\n",
       "      <td>23 556</td>\n",
       "      <td>24 223</td>\n",
       "      <td>24 347</td>\n",
       "      <td>24 760</td>\n",
       "      <td>25 144</td>\n",
       "      <td>25 788</td>\n",
       "    </tr>\n",
       "    <tr>\n",
       "      <th>3</th>\n",
       "      <td>4</td>\n",
       "      <td>DE112</td>\n",
       "      <td>8115</td>\n",
       "      <td>BW</td>\n",
       "      <td>NaN</td>\n",
       "      <td>NaN</td>\n",
       "      <td>3.0</td>\n",
       "      <td>Böblingen, Landkreis</td>\n",
       "      <td>16 467</td>\n",
       "      <td>16 900</td>\n",
       "      <td>...</td>\n",
       "      <td>20 799</td>\n",
       "      <td>21 537</td>\n",
       "      <td>22 364</td>\n",
       "      <td>23 060</td>\n",
       "      <td>23 262</td>\n",
       "      <td>23 742</td>\n",
       "      <td>24 266</td>\n",
       "      <td>24 484</td>\n",
       "      <td>24 908</td>\n",
       "      <td>25 597</td>\n",
       "    </tr>\n",
       "    <tr>\n",
       "      <th>4</th>\n",
       "      <td>5</td>\n",
       "      <td>DE113</td>\n",
       "      <td>8116</td>\n",
       "      <td>BW</td>\n",
       "      <td>NaN</td>\n",
       "      <td>NaN</td>\n",
       "      <td>3.0</td>\n",
       "      <td>Esslingen, Landkreis</td>\n",
       "      <td>17 169</td>\n",
       "      <td>17 474</td>\n",
       "      <td>...</td>\n",
       "      <td>21 127</td>\n",
       "      <td>21 573</td>\n",
       "      <td>22 526</td>\n",
       "      <td>23 140</td>\n",
       "      <td>23 463</td>\n",
       "      <td>23 951</td>\n",
       "      <td>24 232</td>\n",
       "      <td>24 410</td>\n",
       "      <td>24 864</td>\n",
       "      <td>25 582</td>\n",
       "    </tr>\n",
       "  </tbody>\n",
       "</table>\n",
       "<p>5 rows × 32 columns</p>\n",
       "</div>"
      ],
      "text/plain": [
       "   Lfd. Nr. EU-Code  Regional-schlüssel Land  NUTS 1  NUTS 2  NUTS 3  \\\n",
       "0         1     DE1                   8   BW     1.0     NaN     NaN   \n",
       "1         2    DE11                  81   BW     NaN     2.0     NaN   \n",
       "2         3   DE111                8111   BW     NaN     NaN     3.0   \n",
       "3         4   DE112                8115   BW     NaN     NaN     3.0   \n",
       "4         5   DE113                8116   BW     NaN     NaN     3.0   \n",
       "\n",
       "                            Gebietseinheit        1995        1996  ...  \\\n",
       "0                        Baden-Württemberg    15 431      15 738    ...   \n",
       "1              Stuttgart, Regierungsbezirk    16 063      16 372    ...   \n",
       "2  Stuttgart, Landeshauptstadt, Stadtkreis    17 885      18 212    ...   \n",
       "3                     Böblingen, Landkreis    16 467      16 900    ...   \n",
       "4                     Esslingen, Landkreis    17 169      17 474    ...   \n",
       "\n",
       "         2009        2010        2011        2012        2013        2014  \\\n",
       "0    20 128      20 769      21 609      22 128      22 366      22 921     \n",
       "1    20 910      21 563      22 394      22 905      23 117      23 621     \n",
       "2    22 137      22 413      23 121      23 488      23 556      24 223     \n",
       "3    20 799      21 537      22 364      23 060      23 262      23 742     \n",
       "4    21 127      21 573      22 526      23 140      23 463      23 951     \n",
       "\n",
       "         2015        2016        2017        2018  \n",
       "0    23 188      23 709      24 202      24 892    \n",
       "1    23 812      24 392      24 853      25 569    \n",
       "2    24 347      24 760      25 144      25 788    \n",
       "3    24 266      24 484      24 908      25 597    \n",
       "4    24 232      24 410      24 864      25 582    \n",
       "\n",
       "[5 rows x 32 columns]"
      ]
     },
     "execution_count": 29,
     "metadata": {},
     "output_type": "execute_result"
    }
   ],
   "source": [
    "av_avail_income_raw.head()"
   ]
  },
  {
   "cell_type": "code",
   "execution_count": 125,
   "metadata": {},
   "outputs": [
    {
     "data": {
      "text/plain": [
       "(445, 32)"
      ]
     },
     "execution_count": 125,
     "metadata": {},
     "output_type": "execute_result"
    }
   ],
   "source": [
    "population.shape"
   ]
  },
  {
   "cell_type": "code",
   "execution_count": null,
   "metadata": {},
   "outputs": [],
   "source": []
  }
 ],
 "metadata": {
  "kernelspec": {
   "display_name": "Python 3",
   "language": "python",
   "name": "python3"
  },
  "language_info": {
   "codemirror_mode": {
    "name": "ipython",
    "version": 3
   },
   "file_extension": ".py",
   "mimetype": "text/x-python",
   "name": "python",
   "nbconvert_exporter": "python",
   "pygments_lexer": "ipython3",
   "version": "3.9.0"
  }
 },
 "nbformat": 4,
 "nbformat_minor": 4
}
